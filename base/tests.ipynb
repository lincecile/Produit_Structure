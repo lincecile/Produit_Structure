{
 "cells": [
  {
   "cell_type": "code",
   "execution_count": 1,
   "id": "93232cbf",
   "metadata": {},
   "outputs": [],
   "source": [
    "from rate import Rate\n",
    "from timing.maturity import Maturity\n",
    "from timing.schedule import Schedule\n",
    "from bonds import Bond\n",
    "from swaps import Swap, LegType\n",
    "\n",
    "import datetime as dt"
   ]
  },
  {
   "cell_type": "code",
   "execution_count": 2,
   "id": "bb6dc1e3",
   "metadata": {},
   "outputs": [],
   "source": [
    "bond = Bond(\n",
    "    name=\"US Treasury Bond\",\n",
    "    rate=Rate(\n",
    "        rate = 0.03),\n",
    "    maturity = Maturity(\n",
    "        start_date=dt.datetime(2023, 1, 1),\n",
    "        end_date=dt.datetime(2033, 1, 1)),\n",
    "    face_value = 1000,\n",
    "    coupon = 0.03,\n",
    "    nb_coupon=2,\n",
    "    )"
   ]
  },
  {
   "cell_type": "code",
   "execution_count": 3,
   "id": "458ba6f5",
   "metadata": {},
   "outputs": [
    {
     "name": "stdout",
     "output_type": "stream",
     "text": [
      "740.6355756940491\n"
     ]
    }
   ],
   "source": [
    "print(bond.price)"
   ]
  },
  {
   "cell_type": "code",
   "execution_count": 4,
   "id": "60fabec4",
   "metadata": {},
   "outputs": [],
   "source": [
    "schedule = Schedule(dt.date(2023, 1, 1), dt.date(2024, 1, 1), frequency=30)\n",
    "\n",
    "swap = Swap(name=\"Test Swap\", notional=100, \n",
    "            schedule=schedule, \n",
    "            receiving_leg=LegType.fixed,\n",
    "            paying_leg=LegType.floating,\n",
    "            receiving_rate=Rate(0.05),\n",
    "            paying_rate=Rate(0.04),\n",
    "            receiving_rate_premium=0,\n",
    "            paying_rate_premium=0)"
   ]
  },
  {
   "cell_type": "code",
   "execution_count": 7,
   "id": "ccc60cc8",
   "metadata": {},
   "outputs": [
    {
     "data": {
      "text/plain": [
       "0.9750094123508859"
      ]
     },
     "execution_count": 7,
     "metadata": {},
     "output_type": "execute_result"
    }
   ],
   "source": [
    "swap._get_price()"
   ]
  },
  {
   "cell_type": "code",
   "execution_count": null,
   "id": "a56043a1",
   "metadata": {},
   "outputs": [],
   "source": []
  }
 ],
 "metadata": {
  "kernelspec": {
   "display_name": ".venv",
   "language": "python",
   "name": "python3"
  },
  "language_info": {
   "codemirror_mode": {
    "name": "ipython",
    "version": 3
   },
   "file_extension": ".py",
   "mimetype": "text/x-python",
   "name": "python",
   "nbconvert_exporter": "python",
   "pygments_lexer": "ipython3",
   "version": "3.13.0"
  }
 },
 "nbformat": 4,
 "nbformat_minor": 5
}
