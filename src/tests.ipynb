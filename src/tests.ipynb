{
 "cells": [
  {
   "cell_type": "code",
   "execution_count": 1,
   "id": "93232cbf",
   "metadata": {},
   "outputs": [],
   "source": [
    "from rate import Rate\n",
    "from time_utils.maturity import Maturity\n",
    "from time_utils.schedule import Schedule\n",
    "from bonds import Bond\n",
    "from swaps import Swap, LegType\n",
    "from convertibles import Convertible\n",
    "from stocks import Stock\n",
    "\n",
    "import datetime as dt"
   ]
  },
  {
   "cell_type": "code",
   "execution_count": 2,
   "id": "bb6dc1e3",
   "metadata": {},
   "outputs": [],
   "source": [
    "bond = Bond(\n",
    "    name=\"US Treasury Bond\",\n",
    "    rate=Rate(\n",
    "        rate = 0.03),\n",
    "    maturity = Maturity(\n",
    "        start_date=dt.datetime(2023, 1, 1),\n",
    "        end_date=dt.datetime(2033, 1, 1)),\n",
    "    face_value = 1000,\n",
    "    coupon = 0.03,\n",
    "    nb_coupon=2,\n",
    "    )"
   ]
  },
  {
   "cell_type": "code",
   "execution_count": 3,
   "id": "458ba6f5",
   "metadata": {},
   "outputs": [
    {
     "name": "stdout",
     "output_type": "stream",
     "text": [
      "740.6355756940491\n"
     ]
    }
   ],
   "source": [
    "print(bond.price)"
   ]
  },
  {
   "cell_type": "code",
   "execution_count": 4,
   "id": "60fabec4",
   "metadata": {},
   "outputs": [],
   "source": [
    "schedule = Schedule(dt.date(2023, 1, 1), dt.date(2024, 1, 1), frequency=30)\n",
    "\n",
    "swap = Swap(name=\"Test Swap\", notional=100, \n",
    "            schedule=schedule, \n",
    "            receiving_leg=LegType.fixed,\n",
    "            paying_leg=LegType.floating,\n",
    "            receiving_rate=Rate(0.05),\n",
    "            paying_rate=Rate(0.04),\n",
    "            receiving_rate_premium=0,\n",
    "            paying_rate_premium=0)"
   ]
  },
  {
   "cell_type": "code",
   "execution_count": 5,
   "id": "ccc60cc8",
   "metadata": {},
   "outputs": [
    {
     "data": {
      "text/plain": [
       "0.9738702104026713"
      ]
     },
     "execution_count": 5,
     "metadata": {},
     "output_type": "execute_result"
    }
   ],
   "source": [
    "swap._get_price()"
   ]
  },
  {
   "cell_type": "code",
   "execution_count": 6,
   "id": "c83392ef",
   "metadata": {},
   "outputs": [
    {
     "data": {
      "text/plain": [
       "[datetime.date(2025, 1, 1),\n",
       " datetime.date(2025, 6, 30),\n",
       " datetime.date(2025, 12, 27),\n",
       " datetime.date(2026, 6, 25),\n",
       " datetime.date(2026, 12, 22),\n",
       " datetime.date(2027, 6, 20),\n",
       " datetime.date(2027, 12, 17),\n",
       " datetime.date(2028, 6, 14),\n",
       " datetime.date(2028, 12, 11),\n",
       " datetime.date(2029, 6, 9),\n",
       " datetime.date(2029, 12, 6),\n",
       " datetime.date(2030, 6, 4),\n",
       " datetime.date(2030, 12, 1),\n",
       " datetime.date(2031, 5, 30),\n",
       " datetime.date(2031, 11, 26),\n",
       " datetime.date(2032, 5, 24),\n",
       " datetime.date(2032, 11, 20),\n",
       " datetime.date(2033, 5, 19),\n",
       " datetime.date(2033, 11, 15),\n",
       " datetime.date(2034, 5, 14),\n",
       " datetime.date(2034, 11, 10),\n",
       " datetime.date(2035, 1, 1)]"
      ]
     },
     "execution_count": 6,
     "metadata": {},
     "output_type": "execute_result"
    }
   ],
   "source": [
    "stock=Stock(\n",
    "        name=\"Test Stock\",\n",
    "        price=100,\n",
    "        div_amount=1,\n",
    "        div_schedule=Schedule(dt.date(2025, 1, 1), \n",
    "                              dt.date(2035, 1, 1), \n",
    "                              frequency=180))\n",
    "\n",
    "stock.div_schedule.schedule"
   ]
  },
  {
   "cell_type": "code",
   "execution_count": 26,
   "id": "a56043a1",
   "metadata": {},
   "outputs": [],
   "source": [
    "convertible = Convertible(\n",
    "    name=\"Test Convertible\",\n",
    "    rate=Rate(0.02),\n",
    "    maturity=Maturity(\n",
    "        start_date=dt.date(2025, 1, 1),\n",
    "        end_date=dt.date(2035, 1, 1)),\n",
    "    face_value=100,\n",
    "    coupon=0.05,\n",
    "    nb_coupon=2,\n",
    "    conversion_ratio=1.2,\n",
    "    stock=Stock(\n",
    "        name=\"Test Stock\",\n",
    "        price=100,\n",
    "        div_amount=1,\n",
    "        div_schedule=Schedule(dt.date(2025, 1, 1), \n",
    "                              dt.date(2035, 1, 1), \n",
    "                              frequency=180),\n",
    "        volatility=0.2),\n",
    ")"
   ]
  },
  {
   "cell_type": "code",
   "execution_count": 27,
   "id": "c14944e5",
   "metadata": {},
   "outputs": [
    {
     "data": {
      "text/plain": [
       "81.86410340760358"
      ]
     },
     "execution_count": 27,
     "metadata": {},
     "output_type": "execute_result"
    }
   ],
   "source": [
    "convertible.bond_component"
   ]
  },
  {
   "cell_type": "code",
   "execution_count": 28,
   "id": "7bc0612b",
   "metadata": {},
   "outputs": [
    {
     "data": {
      "text/plain": [
       "np.float64(40.296208803359576)"
      ]
     },
     "execution_count": 28,
     "metadata": {},
     "output_type": "execute_result"
    }
   ],
   "source": [
    "convertible.option_component"
   ]
  },
  {
   "cell_type": "code",
   "execution_count": 29,
   "id": "4fd3d45f",
   "metadata": {},
   "outputs": [
    {
     "data": {
      "text/plain": [
       "np.float64(122.16031221096316)"
      ]
     },
     "execution_count": 29,
     "metadata": {},
     "output_type": "execute_result"
    }
   ],
   "source": [
    "convertible.price"
   ]
  },
  {
   "cell_type": "code",
   "execution_count": null,
   "id": "4255ab90",
   "metadata": {},
   "outputs": [],
   "source": []
  }
 ],
 "metadata": {
  "kernelspec": {
   "display_name": ".venv",
   "language": "python",
   "name": "python3"
  },
  "language_info": {
   "codemirror_mode": {
    "name": "ipython",
    "version": 3
   },
   "file_extension": ".py",
   "mimetype": "text/x-python",
   "name": "python",
   "nbconvert_exporter": "python",
   "pygments_lexer": "ipython3",
   "version": "3.13.0"
  }
 },
 "nbformat": 4,
 "nbformat_minor": 5
}
