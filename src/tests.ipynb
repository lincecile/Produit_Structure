{
 "cells": [
  {
   "cell_type": "code",
   "execution_count": 1,
   "id": "93232cbf",
   "metadata": {},
   "outputs": [],
   "source": [
    "from rate import Rate\n",
    "from time_utils.maturity import Maturity\n",
    "from time_utils.schedule import Schedule\n",
    "from bonds import Bond, ZCBond\n",
    "from swaps import Swap, LegType\n",
    "from convertibles import Convertible\n",
    "from stocks import Stock\n",
    "\n",
    "import datetime as dt"
   ]
  },
  {
   "cell_type": "code",
   "execution_count": 2,
   "id": "cb3e26ed",
   "metadata": {},
   "outputs": [
    {
     "data": {
      "text/plain": [
       "10.008219178082191"
      ]
     },
     "execution_count": 2,
     "metadata": {},
     "output_type": "execute_result"
    }
   ],
   "source": [
    "zc = ZCBond('zc', rate=Rate(0.05), maturity = \n",
    "            Maturity(start_date=dt.datetime(2023, 1, 1),end_date=dt.datetime(2033, 1, 1)), \n",
    "            face_value=1000)\n",
    "zc.get_duration()"
   ]
  },
  {
   "cell_type": "code",
   "execution_count": 3,
   "id": "bb6dc1e3",
   "metadata": {},
   "outputs": [],
   "source": [
    "bond = Bond(\n",
    "    name=\"US Treasury Bond\",\n",
    "    rate=Rate(\n",
    "        rate = 0.06),\n",
    "    maturity = Maturity(\n",
    "        start_date=dt.datetime(2023, 1, 1),\n",
    "        end_date=dt.datetime(2033, 1, 1)),\n",
    "    face_value = 1000,\n",
    "    coupon = 0.06,\n",
    "    nb_coupon=2,\n",
    "    price=1000\n",
    "    )"
   ]
  },
  {
   "cell_type": "code",
   "execution_count": 4,
   "id": "d88c27fa",
   "metadata": {},
   "outputs": [
    {
     "name": "stdout",
     "output_type": "stream",
     "text": [
      "US Treasury Bond_ZC_0.5 29.11575898419324 2023-07-02 00:00:00 <rate.Rate object at 0x00000209DC1120D0> 30.0\n",
      "US Treasury Bond_ZC_1.0 28.252936007527463 2024-01-01 00:00:00 <rate.Rate object at 0x00000209DC1120D0> 30.0\n",
      "US Treasury Bond_ZC_1.5 27.415682121795104 2024-07-02 00:00:00 <rate.Rate object at 0x00000209DC1120D0> 30.0\n",
      "US Treasury Bond_ZC_2.0 26.607613101514723 2024-12-31 00:00:00 <rate.Rate object at 0x00000209DC1120D0> 30.0\n",
      "US Treasury Bond_ZC_2.5 25.82336167361217 2025-07-01 00:00:00 <rate.Rate object at 0x00000209DC1120D0> 30.0\n",
      "US Treasury Bond_ZC_3.0 25.05810634233816 2025-12-31 00:00:00 <rate.Rate object at 0x00000209DC1120D0> 30.0\n",
      "US Treasury Bond_ZC_3.5 24.315528760361282 2026-07-02 00:00:00 <rate.Rate object at 0x00000209DC1120D0> 30.0\n",
      "US Treasury Bond_ZC_4.0 23.598835831996603 2026-12-31 00:00:00 <rate.Rate object at 0x00000209DC1120D0> 30.0\n",
      "US Treasury Bond_ZC_4.5 22.903267213065213 2027-07-01 00:00:00 <rate.Rate object at 0x00000209DC1120D0> 30.0\n",
      "US Treasury Bond_ZC_5.0 22.224546620451537 2027-12-31 00:00:00 <rate.Rate object at 0x00000209DC1120D0> 30.0\n",
      "US Treasury Bond_ZC_5.5 21.565939387148234 2028-07-01 00:00:00 <rate.Rate object at 0x00000209DC1120D0> 30.0\n",
      "US Treasury Bond_ZC_6.0 20.93028978213093 2028-12-30 00:00:00 <rate.Rate object at 0x00000209DC1120D0> 30.0\n",
      "US Treasury Bond_ZC_6.5 20.313375758861554 2029-06-30 00:00:00 <rate.Rate object at 0x00000209DC1120D0> 30.0\n",
      "US Treasury Bond_ZC_7.0 19.711404594451704 2029-12-30 00:00:00 <rate.Rate object at 0x00000209DC1120D0> 30.0\n",
      "US Treasury Bond_ZC_7.5 19.127272379465257 2030-07-01 00:00:00 <rate.Rate object at 0x00000209DC1120D0> 30.0\n",
      "US Treasury Bond_ZC_8.0 18.563501754184227 2030-12-30 00:00:00 <rate.Rate object at 0x00000209DC1120D0> 30.0\n",
      "US Treasury Bond_ZC_8.5 18.01634809924921 2031-06-30 00:00:00 <rate.Rate object at 0x00000209DC1120D0> 30.0\n",
      "US Treasury Bond_ZC_9.0 17.48244757121969 2031-12-30 00:00:00 <rate.Rate object at 0x00000209DC1120D0> 30.0\n",
      "US Treasury Bond_ZC_9.5 16.96436877200335 2032-06-30 00:00:00 <rate.Rate object at 0x00000209DC1120D0> 30.0\n",
      "US Treasury Bond_ZC_10.0 16.464349082820796 2032-12-29 00:00:00 <rate.Rate object at 0x00000209DC1120D0> 30.0\n"
     ]
    }
   ],
   "source": [
    "for i in bond.to_zcbonds(): \n",
    "    print(i.name, i.price, i.maturity.end_date, i.rate, i.face_value)"
   ]
  },
  {
   "cell_type": "code",
   "execution_count": 5,
   "id": "458ba6f5",
   "metadata": {},
   "outputs": [
    {
     "data": {
      "text/plain": [
       "7.598439695425409"
      ]
     },
     "execution_count": 5,
     "metadata": {},
     "output_type": "execute_result"
    }
   ],
   "source": [
    "bond.get_duration()"
   ]
  },
  {
   "cell_type": "code",
   "execution_count": 6,
   "id": "60fabec4",
   "metadata": {},
   "outputs": [],
   "source": [
    "schedule = Schedule(dt.date(2023, 1, 1), dt.date(2024, 1, 1), frequency=30)\n",
    "\n",
    "swap = Swap(name=\"Test Swap\", notional=100, \n",
    "            schedule=schedule, \n",
    "            receiving_leg=LegType.fixed,\n",
    "            paying_leg=LegType.floating,\n",
    "            receiving_rate=Rate(0.05),\n",
    "            paying_rate=Rate(0.04),\n",
    "            receiving_rate_premium=0,\n",
    "            paying_rate_premium=0)"
   ]
  },
  {
   "cell_type": "code",
   "execution_count": null,
   "id": "8c55f6e6",
   "metadata": {},
   "outputs": [],
   "source": []
  },
  {
   "cell_type": "code",
   "execution_count": 7,
   "id": "ccc60cc8",
   "metadata": {},
   "outputs": [
    {
     "data": {
      "text/plain": [
       "0.9738702104026713"
      ]
     },
     "execution_count": 7,
     "metadata": {},
     "output_type": "execute_result"
    }
   ],
   "source": [
    "swap._get_price()"
   ]
  },
  {
   "cell_type": "code",
   "execution_count": 8,
   "id": "c83392ef",
   "metadata": {},
   "outputs": [
    {
     "data": {
      "text/plain": [
       "[datetime.date(2025, 1, 1),\n",
       " datetime.date(2025, 6, 30),\n",
       " datetime.date(2025, 12, 27),\n",
       " datetime.date(2026, 6, 25),\n",
       " datetime.date(2026, 12, 22),\n",
       " datetime.date(2027, 6, 20),\n",
       " datetime.date(2027, 12, 17),\n",
       " datetime.date(2028, 6, 14),\n",
       " datetime.date(2028, 12, 11),\n",
       " datetime.date(2029, 6, 9),\n",
       " datetime.date(2029, 12, 6),\n",
       " datetime.date(2030, 6, 4),\n",
       " datetime.date(2030, 12, 1),\n",
       " datetime.date(2031, 5, 30),\n",
       " datetime.date(2031, 11, 26),\n",
       " datetime.date(2032, 5, 24),\n",
       " datetime.date(2032, 11, 20),\n",
       " datetime.date(2033, 5, 19),\n",
       " datetime.date(2033, 11, 15),\n",
       " datetime.date(2034, 5, 14),\n",
       " datetime.date(2034, 11, 10),\n",
       " datetime.date(2035, 1, 1)]"
      ]
     },
     "execution_count": 8,
     "metadata": {},
     "output_type": "execute_result"
    }
   ],
   "source": [
    "stock=Stock(\n",
    "        name=\"Test Stock\",\n",
    "        price=100,\n",
    "        div_amount=1,\n",
    "        div_schedule=Schedule(dt.date(2025, 1, 1), \n",
    "                              dt.date(2035, 1, 1), \n",
    "                              frequency=180))\n",
    "\n",
    "stock.div_schedule.schedule"
   ]
  },
  {
   "cell_type": "code",
   "execution_count": 9,
   "id": "a56043a1",
   "metadata": {},
   "outputs": [],
   "source": [
    "convertible = Convertible(\n",
    "    name=\"Test Convertible\",\n",
    "    rate=Rate(0.02),\n",
    "    maturity=Maturity(\n",
    "        start_date=dt.date(2025, 1, 1),\n",
    "        end_date=dt.date(2035, 1, 1)),\n",
    "    face_value=100,\n",
    "    coupon=0.05,\n",
    "    nb_coupon=2,\n",
    "    conversion_ratio=1.2,\n",
    "    stock=Stock(\n",
    "        name=\"Test Stock\",\n",
    "        price=100,\n",
    "        div_amount=1,\n",
    "        div_schedule=Schedule(dt.date(2025, 1, 1), \n",
    "                              dt.date(2035, 1, 1), \n",
    "                              frequency=180),\n",
    "        volatility=0.2),\n",
    ")"
   ]
  },
  {
   "cell_type": "code",
   "execution_count": 10,
   "id": "c14944e5",
   "metadata": {},
   "outputs": [
    {
     "data": {
      "text/plain": [
       "126.95521243913494"
      ]
     },
     "execution_count": 10,
     "metadata": {},
     "output_type": "execute_result"
    }
   ],
   "source": [
    "convertible.bond_component"
   ]
  },
  {
   "cell_type": "code",
   "execution_count": 11,
   "id": "7bc0612b",
   "metadata": {},
   "outputs": [
    {
     "data": {
      "text/plain": [
       "np.float64(40.296208803359576)"
      ]
     },
     "execution_count": 11,
     "metadata": {},
     "output_type": "execute_result"
    }
   ],
   "source": [
    "convertible.option_component"
   ]
  },
  {
   "cell_type": "code",
   "execution_count": 12,
   "id": "4fd3d45f",
   "metadata": {},
   "outputs": [
    {
     "data": {
      "text/plain": [
       "np.float64(167.25142124249453)"
      ]
     },
     "execution_count": 12,
     "metadata": {},
     "output_type": "execute_result"
    }
   ],
   "source": [
    "convertible.price"
   ]
  },
  {
   "cell_type": "code",
   "execution_count": 13,
   "id": "4255ab90",
   "metadata": {},
   "outputs": [
    {
     "data": {
      "text/plain": [
       "np.float64(6.265283997308113)"
      ]
     },
     "execution_count": 13,
     "metadata": {},
     "output_type": "execute_result"
    }
   ],
   "source": [
    "convertible._get_bond_component_duration()"
   ]
  },
  {
   "cell_type": "code",
   "execution_count": 14,
   "id": "1a18d917",
   "metadata": {},
   "outputs": [
    {
     "name": "stdout",
     "output_type": "stream",
     "text": [
      "0.04175844812691167\n"
     ]
    },
    {
     "data": {
      "text/plain": [
       "np.float64(5.1611948820996085)"
      ]
     },
     "execution_count": 14,
     "metadata": {},
     "output_type": "execute_result"
    }
   ],
   "source": [
    "convertible.get_duration()"
   ]
  },
  {
   "cell_type": "code",
   "execution_count": null,
   "id": "d6259279",
   "metadata": {},
   "outputs": [],
   "source": []
  }
 ],
 "metadata": {
  "kernelspec": {
   "display_name": ".venv",
   "language": "python",
   "name": "python3"
  },
  "language_info": {
   "codemirror_mode": {
    "name": "ipython",
    "version": 3
   },
   "file_extension": ".py",
   "mimetype": "text/x-python",
   "name": "python",
   "nbconvert_exporter": "python",
   "pygments_lexer": "ipython3",
   "version": "3.13.0"
  }
 },
 "nbformat": 4,
 "nbformat_minor": 5
}
