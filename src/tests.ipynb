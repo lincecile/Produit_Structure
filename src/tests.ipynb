{
 "cells": [
  {
   "cell_type": "code",
   "execution_count": 1,
   "id": "93232cbf",
   "metadata": {},
   "outputs": [],
   "source": [
    "from rate import Rate, InterpolationType, StochasticRate\n",
    "from time_utils.maturity import Maturity\n",
    "from time_utils.schedule import Schedule\n",
    "from time_utils.day_count import DayCount\n",
    "from bonds import Bond, ZCBond\n",
    "from swaps import Swap, LegType\n",
    "from convertibles import Convertible\n",
    "from stocks import Stock\n",
    "\n",
    "import datetime as dt"
   ]
  },
  {
   "cell_type": "code",
   "execution_count": 7,
   "id": "d570e6ed",
   "metadata": {},
   "outputs": [],
   "source": [
    "# Create some test dates\n",
    "today = dt.date.today()\n",
    "\n",
    "# Create maturity points for the yield curve\n",
    "maturities = {\n",
    "Maturity(today, today , DayCount.act_365): 0.03, \n",
    "Maturity(today, today + dt.timedelta(days=365*10), DayCount.act_365): 0.07\n",
    "}\n",
    "\n",
    "# Create rate object with the rate curve\n",
    "stochastic_rate = StochasticRate(rate_curve=maturities, interpolation_type=InterpolationType.linear, num_paths=100)\n",
    "\n",
    "import matplotlib.pyplot as plt\n",
    "\n",
    "\n",
    "\n",
    "# Plot the data\n",
    "plt.figure(figsize=(8, 5))\n",
    "plt.plot([i.end_date for i in [*stochastic_rate._rate_curve]], stochastic_rate.get_curve(), marker='o', label='Stochastic Rate Curve')\n",
    "plt.title('Stochastic Rate Curve')\n",
    "plt.xlabel('Maturity (Years)')\n",
    "plt.ylabel('Rate')\n",
    "plt.grid(True)\n",
    "plt.legend()\n",
    "plt.show()"
   ]
  },
  {
   "cell_type": "code",
   "execution_count": 7,
   "id": "e04e7883",
   "metadata": {},
   "outputs": [],
   "source": [
    "list_of_rates = []\n",
    "for i in stochastic_rate._rate_curve : \n",
    "    list_of_rates.append(stochastic_rate._rate_curve[i])"
   ]
  },
  {
   "cell_type": "code",
   "execution_count": 14,
   "id": "2e33c59d",
   "metadata": {},
   "outputs": [
    {
     "data": {
      "text/plain": [
       "dict_keys([Maturity(start_date=2025-04-26, end_date=2025-04-27, maturity_years=0.0027397260273972603), Maturity(start_date=2025-04-26, end_date=2025-05-10, maturity_years=0.038356164383561646), Maturity(start_date=2025-04-26, end_date=2025-05-24, maturity_years=0.07671232876712329), Maturity(start_date=2025-04-26, end_date=2025-06-08, maturity_years=0.1178082191780822), Maturity(start_date=2025-04-26, end_date=2025-06-22, maturity_years=0.15616438356164383), Maturity(start_date=2025-04-26, end_date=2025-07-07, maturity_years=0.19726027397260273), Maturity(start_date=2025-04-26, end_date=2025-07-21, maturity_years=0.2356164383561644), Maturity(start_date=2025-04-26, end_date=2025-08-05, maturity_years=0.27671232876712326), Maturity(start_date=2025-04-26, end_date=2025-08-19, maturity_years=0.3150684931506849), Maturity(start_date=2025-04-26, end_date=2025-09-03, maturity_years=0.3561643835616438), Maturity(start_date=2025-04-26, end_date=2025-09-17, maturity_years=0.39452054794520547), Maturity(start_date=2025-04-26, end_date=2025-10-02, maturity_years=0.43561643835616437), Maturity(start_date=2025-04-26, end_date=2025-10-16, maturity_years=0.473972602739726), Maturity(start_date=2025-04-26, end_date=2025-10-31, maturity_years=0.5150684931506849), Maturity(start_date=2025-04-26, end_date=2025-11-14, maturity_years=0.5534246575342465), Maturity(start_date=2025-04-26, end_date=2025-11-29, maturity_years=0.5945205479452055), Maturity(start_date=2025-04-26, end_date=2025-12-13, maturity_years=0.6328767123287671), Maturity(start_date=2025-04-26, end_date=2025-12-28, maturity_years=0.673972602739726), Maturity(start_date=2025-04-26, end_date=2026-01-11, maturity_years=0.7123287671232876), Maturity(start_date=2025-04-26, end_date=2026-01-26, maturity_years=0.7534246575342466), Maturity(start_date=2025-04-26, end_date=2026-02-09, maturity_years=0.7917808219178082), Maturity(start_date=2025-04-26, end_date=2026-02-24, maturity_years=0.8328767123287671), Maturity(start_date=2025-04-26, end_date=2026-03-10, maturity_years=0.8712328767123287), Maturity(start_date=2025-04-26, end_date=2026-03-25, maturity_years=0.9123287671232877), Maturity(start_date=2025-04-26, end_date=2026-04-08, maturity_years=0.9506849315068493), Maturity(start_date=2025-04-26, end_date=2026-04-23, maturity_years=0.9917808219178083), Maturity(start_date=2025-04-26, end_date=2026-05-07, maturity_years=1.0301369863013699), Maturity(start_date=2025-04-26, end_date=2026-05-22, maturity_years=1.0712328767123287), Maturity(start_date=2025-04-26, end_date=2026-06-05, maturity_years=1.1095890410958904), Maturity(start_date=2025-04-26, end_date=2026-06-20, maturity_years=1.1506849315068493), Maturity(start_date=2025-04-26, end_date=2026-07-04, maturity_years=1.189041095890411), Maturity(start_date=2025-04-26, end_date=2026-07-19, maturity_years=1.2301369863013698), Maturity(start_date=2025-04-26, end_date=2026-08-02, maturity_years=1.2684931506849315), Maturity(start_date=2025-04-26, end_date=2026-08-16, maturity_years=1.3068493150684932), Maturity(start_date=2025-04-26, end_date=2026-08-31, maturity_years=1.347945205479452), Maturity(start_date=2025-04-26, end_date=2026-09-14, maturity_years=1.3863013698630138), Maturity(start_date=2025-04-26, end_date=2026-09-29, maturity_years=1.4273972602739726), Maturity(start_date=2025-04-26, end_date=2026-10-13, maturity_years=1.4657534246575343), Maturity(start_date=2025-04-26, end_date=2026-10-28, maturity_years=1.5068493150684932), Maturity(start_date=2025-04-26, end_date=2026-11-11, maturity_years=1.5452054794520549), Maturity(start_date=2025-04-26, end_date=2026-11-26, maturity_years=1.5863013698630137), Maturity(start_date=2025-04-26, end_date=2026-12-10, maturity_years=1.6246575342465754), Maturity(start_date=2025-04-26, end_date=2026-12-25, maturity_years=1.6657534246575343), Maturity(start_date=2025-04-26, end_date=2027-01-08, maturity_years=1.704109589041096), Maturity(start_date=2025-04-26, end_date=2027-01-23, maturity_years=1.7452054794520548), Maturity(start_date=2025-04-26, end_date=2027-02-06, maturity_years=1.7835616438356163), Maturity(start_date=2025-04-26, end_date=2027-02-21, maturity_years=1.8246575342465754), Maturity(start_date=2025-04-26, end_date=2027-03-07, maturity_years=1.8630136986301369), Maturity(start_date=2025-04-26, end_date=2027-03-22, maturity_years=1.904109589041096), Maturity(start_date=2025-04-26, end_date=2027-04-05, maturity_years=1.9424657534246574), Maturity(start_date=2025-04-26, end_date=2027-04-20, maturity_years=1.9835616438356165), Maturity(start_date=2025-04-26, end_date=2027-05-04, maturity_years=2.021917808219178), Maturity(start_date=2025-04-26, end_date=2027-05-19, maturity_years=2.063013698630137), Maturity(start_date=2025-04-26, end_date=2027-06-02, maturity_years=2.1013698630136988), Maturity(start_date=2025-04-26, end_date=2027-06-17, maturity_years=2.1424657534246574), Maturity(start_date=2025-04-26, end_date=2027-07-01, maturity_years=2.180821917808219), Maturity(start_date=2025-04-26, end_date=2027-07-16, maturity_years=2.221917808219178), Maturity(start_date=2025-04-26, end_date=2027-07-30, maturity_years=2.26027397260274), Maturity(start_date=2025-04-26, end_date=2027-08-14, maturity_years=2.3013698630136985), Maturity(start_date=2025-04-26, end_date=2027-08-28, maturity_years=2.33972602739726), Maturity(start_date=2025-04-26, end_date=2027-09-12, maturity_years=2.3808219178082193), Maturity(start_date=2025-04-26, end_date=2027-09-26, maturity_years=2.419178082191781), Maturity(start_date=2025-04-26, end_date=2027-10-11, maturity_years=2.4602739726027396), Maturity(start_date=2025-04-26, end_date=2027-10-25, maturity_years=2.4986301369863013), Maturity(start_date=2025-04-26, end_date=2027-11-08, maturity_years=2.536986301369863), Maturity(start_date=2025-04-26, end_date=2027-11-23, maturity_years=2.578082191780822), Maturity(start_date=2025-04-26, end_date=2027-12-07, maturity_years=2.6164383561643834), Maturity(start_date=2025-04-26, end_date=2027-12-22, maturity_years=2.6575342465753424), Maturity(start_date=2025-04-26, end_date=2028-01-05, maturity_years=2.695890410958904), Maturity(start_date=2025-04-26, end_date=2028-01-20, maturity_years=2.736986301369863), Maturity(start_date=2025-04-26, end_date=2028-02-03, maturity_years=2.7753424657534245), Maturity(start_date=2025-04-26, end_date=2028-02-18, maturity_years=2.8164383561643835), Maturity(start_date=2025-04-26, end_date=2028-03-03, maturity_years=2.8547945205479452), Maturity(start_date=2025-04-26, end_date=2028-03-18, maturity_years=2.8958904109589043), Maturity(start_date=2025-04-26, end_date=2028-04-01, maturity_years=2.9342465753424656), Maturity(start_date=2025-04-26, end_date=2028-04-16, maturity_years=2.9753424657534246), Maturity(start_date=2025-04-26, end_date=2028-04-30, maturity_years=3.0136986301369864), Maturity(start_date=2025-04-26, end_date=2028-05-15, maturity_years=3.0547945205479454), Maturity(start_date=2025-04-26, end_date=2028-05-29, maturity_years=3.0931506849315067), Maturity(start_date=2025-04-26, end_date=2028-06-13, maturity_years=3.1342465753424658), Maturity(start_date=2025-04-26, end_date=2028-06-27, maturity_years=3.1726027397260275), Maturity(start_date=2025-04-26, end_date=2028-07-12, maturity_years=3.213698630136986), Maturity(start_date=2025-04-26, end_date=2028-07-26, maturity_years=3.252054794520548), Maturity(start_date=2025-04-26, end_date=2028-08-10, maturity_years=3.293150684931507), Maturity(start_date=2025-04-26, end_date=2028-08-24, maturity_years=3.3315068493150686), Maturity(start_date=2025-04-26, end_date=2028-09-08, maturity_years=3.372602739726027), Maturity(start_date=2025-04-26, end_date=2028-09-22, maturity_years=3.410958904109589), Maturity(start_date=2025-04-26, end_date=2028-10-07, maturity_years=3.452054794520548), Maturity(start_date=2025-04-26, end_date=2028-10-21, maturity_years=3.4904109589041097), Maturity(start_date=2025-04-26, end_date=2028-11-05, maturity_years=3.5315068493150683), Maturity(start_date=2025-04-26, end_date=2028-11-19, maturity_years=3.56986301369863), Maturity(start_date=2025-04-26, end_date=2028-12-04, maturity_years=3.610958904109589), Maturity(start_date=2025-04-26, end_date=2028-12-18, maturity_years=3.649315068493151), Maturity(start_date=2025-04-26, end_date=2029-01-02, maturity_years=3.6904109589041094), Maturity(start_date=2025-04-26, end_date=2029-01-16, maturity_years=3.728767123287671), Maturity(start_date=2025-04-26, end_date=2029-01-30, maturity_years=3.767123287671233), Maturity(start_date=2025-04-26, end_date=2029-02-14, maturity_years=3.808219178082192), Maturity(start_date=2025-04-26, end_date=2029-02-28, maturity_years=3.8465753424657536), Maturity(start_date=2025-04-26, end_date=2029-03-15, maturity_years=3.8876712328767122), Maturity(start_date=2025-04-26, end_date=2029-03-29, maturity_years=3.926027397260274), Maturity(start_date=2025-04-26, end_date=2029-04-13, maturity_years=3.967123287671233), Maturity(start_date=2025-04-26, end_date=2029-04-27, maturity_years=4.005479452054795), Maturity(start_date=2025-04-26, end_date=2029-05-12, maturity_years=4.046575342465753), Maturity(start_date=2025-04-26, end_date=2029-05-26, maturity_years=4.0849315068493155), Maturity(start_date=2025-04-26, end_date=2029-06-10, maturity_years=4.126027397260274), Maturity(start_date=2025-04-26, end_date=2029-06-24, maturity_years=4.164383561643835), Maturity(start_date=2025-04-26, end_date=2029-07-09, maturity_years=4.205479452054795), Maturity(start_date=2025-04-26, end_date=2029-07-23, maturity_years=4.243835616438356), Maturity(start_date=2025-04-26, end_date=2029-08-07, maturity_years=4.284931506849315), Maturity(start_date=2025-04-26, end_date=2029-08-21, maturity_years=4.323287671232877), Maturity(start_date=2025-04-26, end_date=2029-09-05, maturity_years=4.364383561643836), Maturity(start_date=2025-04-26, end_date=2029-09-19, maturity_years=4.402739726027397), Maturity(start_date=2025-04-26, end_date=2029-10-04, maturity_years=4.443835616438356), Maturity(start_date=2025-04-26, end_date=2029-10-18, maturity_years=4.482191780821918), Maturity(start_date=2025-04-26, end_date=2029-11-02, maturity_years=4.523287671232877), Maturity(start_date=2025-04-26, end_date=2029-11-16, maturity_years=4.561643835616438), Maturity(start_date=2025-04-26, end_date=2029-12-01, maturity_years=4.602739726027397), Maturity(start_date=2025-04-26, end_date=2029-12-15, maturity_years=4.641095890410959), Maturity(start_date=2025-04-26, end_date=2029-12-30, maturity_years=4.682191780821918), Maturity(start_date=2025-04-26, end_date=2030-01-13, maturity_years=4.720547945205479), Maturity(start_date=2025-04-26, end_date=2030-01-28, maturity_years=4.761643835616439), Maturity(start_date=2025-04-26, end_date=2030-02-11, maturity_years=4.8), Maturity(start_date=2025-04-26, end_date=2030-02-26, maturity_years=4.841095890410959), Maturity(start_date=2025-04-26, end_date=2030-03-12, maturity_years=4.879452054794521), Maturity(start_date=2025-04-26, end_date=2030-03-27, maturity_years=4.920547945205479), Maturity(start_date=2025-04-26, end_date=2030-04-10, maturity_years=4.958904109589041), Maturity(start_date=2025-04-26, end_date=2030-04-25, maturity_years=5.0), Maturity(start_date=2025-04-26, end_date=2030-05-09, maturity_years=5.038356164383561), Maturity(start_date=2025-04-26, end_date=2030-05-23, maturity_years=5.076712328767123), Maturity(start_date=2025-04-26, end_date=2030-06-07, maturity_years=5.117808219178082), Maturity(start_date=2025-04-26, end_date=2030-06-21, maturity_years=5.156164383561644), Maturity(start_date=2025-04-26, end_date=2030-07-06, maturity_years=5.197260273972603), Maturity(start_date=2025-04-26, end_date=2030-07-20, maturity_years=5.235616438356164), Maturity(start_date=2025-04-26, end_date=2030-08-04, maturity_years=5.276712328767124), Maturity(start_date=2025-04-26, end_date=2030-08-18, maturity_years=5.315068493150685), Maturity(start_date=2025-04-26, end_date=2030-09-02, maturity_years=5.3561643835616435), Maturity(start_date=2025-04-26, end_date=2030-09-16, maturity_years=5.394520547945206), Maturity(start_date=2025-04-26, end_date=2030-10-01, maturity_years=5.435616438356164), Maturity(start_date=2025-04-26, end_date=2030-10-15, maturity_years=5.473972602739726), Maturity(start_date=2025-04-26, end_date=2030-10-30, maturity_years=5.515068493150685), Maturity(start_date=2025-04-26, end_date=2030-11-13, maturity_years=5.553424657534246), Maturity(start_date=2025-04-26, end_date=2030-11-28, maturity_years=5.594520547945206), Maturity(start_date=2025-04-26, end_date=2030-12-12, maturity_years=5.632876712328767), Maturity(start_date=2025-04-26, end_date=2030-12-27, maturity_years=5.673972602739726), Maturity(start_date=2025-04-26, end_date=2031-01-10, maturity_years=5.712328767123288), Maturity(start_date=2025-04-26, end_date=2031-01-25, maturity_years=5.7534246575342465), Maturity(start_date=2025-04-26, end_date=2031-02-08, maturity_years=5.791780821917809), Maturity(start_date=2025-04-26, end_date=2031-02-23, maturity_years=5.832876712328767), Maturity(start_date=2025-04-26, end_date=2031-03-09, maturity_years=5.8712328767123285), Maturity(start_date=2025-04-26, end_date=2031-03-24, maturity_years=5.912328767123288), Maturity(start_date=2025-04-26, end_date=2031-04-07, maturity_years=5.950684931506849), Maturity(start_date=2025-04-26, end_date=2031-04-22, maturity_years=5.991780821917808), Maturity(start_date=2025-04-26, end_date=2031-05-06, maturity_years=6.03013698630137), Maturity(start_date=2025-04-26, end_date=2031-05-21, maturity_years=6.071232876712329), Maturity(start_date=2025-04-26, end_date=2031-06-04, maturity_years=6.109589041095891), Maturity(start_date=2025-04-26, end_date=2031-06-19, maturity_years=6.1506849315068495), Maturity(start_date=2025-04-26, end_date=2031-07-03, maturity_years=6.189041095890411), Maturity(start_date=2025-04-26, end_date=2031-07-18, maturity_years=6.23013698630137), Maturity(start_date=2025-04-26, end_date=2031-08-01, maturity_years=6.2684931506849315), Maturity(start_date=2025-04-26, end_date=2031-08-15, maturity_years=6.306849315068493), Maturity(start_date=2025-04-26, end_date=2031-08-30, maturity_years=6.347945205479452), Maturity(start_date=2025-04-26, end_date=2031-09-13, maturity_years=6.3863013698630136), Maturity(start_date=2025-04-26, end_date=2031-09-28, maturity_years=6.427397260273972), Maturity(start_date=2025-04-26, end_date=2031-10-12, maturity_years=6.465753424657534), Maturity(start_date=2025-04-26, end_date=2031-10-27, maturity_years=6.506849315068493), Maturity(start_date=2025-04-26, end_date=2031-11-10, maturity_years=6.545205479452055), Maturity(start_date=2025-04-26, end_date=2031-11-25, maturity_years=6.586301369863014), Maturity(start_date=2025-04-26, end_date=2031-12-09, maturity_years=6.624657534246575), Maturity(start_date=2025-04-26, end_date=2031-12-24, maturity_years=6.6657534246575345), Maturity(start_date=2025-04-26, end_date=2032-01-07, maturity_years=6.704109589041096), Maturity(start_date=2025-04-26, end_date=2032-01-22, maturity_years=6.745205479452054), Maturity(start_date=2025-04-26, end_date=2032-02-05, maturity_years=6.7835616438356166), Maturity(start_date=2025-04-26, end_date=2032-02-20, maturity_years=6.824657534246575), Maturity(start_date=2025-04-26, end_date=2032-03-05, maturity_years=6.863013698630137), Maturity(start_date=2025-04-26, end_date=2032-03-20, maturity_years=6.904109589041096), Maturity(start_date=2025-04-26, end_date=2032-04-03, maturity_years=6.942465753424657), Maturity(start_date=2025-04-26, end_date=2032-04-18, maturity_years=6.983561643835617), Maturity(start_date=2025-04-26, end_date=2032-05-02, maturity_years=7.021917808219178), Maturity(start_date=2025-04-26, end_date=2032-05-17, maturity_years=7.063013698630137), Maturity(start_date=2025-04-26, end_date=2032-05-31, maturity_years=7.101369863013699), Maturity(start_date=2025-04-26, end_date=2032-06-15, maturity_years=7.142465753424657), Maturity(start_date=2025-04-26, end_date=2032-06-29, maturity_years=7.1808219178082195), Maturity(start_date=2025-04-26, end_date=2032-07-14, maturity_years=7.221917808219178), Maturity(start_date=2025-04-26, end_date=2032-07-28, maturity_years=7.260273972602739), Maturity(start_date=2025-04-26, end_date=2032-08-12, maturity_years=7.301369863013699), Maturity(start_date=2025-04-26, end_date=2032-08-26, maturity_years=7.33972602739726), Maturity(start_date=2025-04-26, end_date=2032-09-10, maturity_years=7.380821917808219), Maturity(start_date=2025-04-26, end_date=2032-09-24, maturity_years=7.419178082191781), Maturity(start_date=2025-04-26, end_date=2032-10-09, maturity_years=7.46027397260274), Maturity(start_date=2025-04-26, end_date=2032-10-23, maturity_years=7.498630136986302), Maturity(start_date=2025-04-26, end_date=2032-11-06, maturity_years=7.536986301369863), Maturity(start_date=2025-04-26, end_date=2032-11-21, maturity_years=7.578082191780822), Maturity(start_date=2025-04-26, end_date=2032-12-05, maturity_years=7.616438356164384), Maturity(start_date=2025-04-26, end_date=2032-12-20, maturity_years=7.657534246575342), Maturity(start_date=2025-04-26, end_date=2033-01-03, maturity_years=7.695890410958904), Maturity(start_date=2025-04-26, end_date=2033-01-18, maturity_years=7.736986301369863), Maturity(start_date=2025-04-26, end_date=2033-02-01, maturity_years=7.7753424657534245), Maturity(start_date=2025-04-26, end_date=2033-02-16, maturity_years=7.816438356164384), Maturity(start_date=2025-04-26, end_date=2033-03-02, maturity_years=7.854794520547945), Maturity(start_date=2025-04-26, end_date=2033-03-17, maturity_years=7.895890410958904), Maturity(start_date=2025-04-26, end_date=2033-03-31, maturity_years=7.934246575342466), Maturity(start_date=2025-04-26, end_date=2033-04-15, maturity_years=7.975342465753425), Maturity(start_date=2025-04-26, end_date=2033-04-29, maturity_years=8.013698630136986), Maturity(start_date=2025-04-26, end_date=2033-05-14, maturity_years=8.054794520547945), Maturity(start_date=2025-04-26, end_date=2033-05-28, maturity_years=8.093150684931507), Maturity(start_date=2025-04-26, end_date=2033-06-12, maturity_years=8.134246575342466), Maturity(start_date=2025-04-26, end_date=2033-06-26, maturity_years=8.172602739726027), Maturity(start_date=2025-04-26, end_date=2033-07-11, maturity_years=8.213698630136987), Maturity(start_date=2025-04-26, end_date=2033-07-25, maturity_years=8.252054794520548), Maturity(start_date=2025-04-26, end_date=2033-08-09, maturity_years=8.293150684931506), Maturity(start_date=2025-04-26, end_date=2033-08-23, maturity_years=8.331506849315069), Maturity(start_date=2025-04-26, end_date=2033-09-07, maturity_years=8.372602739726027), Maturity(start_date=2025-04-26, end_date=2033-09-21, maturity_years=8.41095890410959), Maturity(start_date=2025-04-26, end_date=2033-10-06, maturity_years=8.452054794520548), Maturity(start_date=2025-04-26, end_date=2033-10-20, maturity_years=8.490410958904109), Maturity(start_date=2025-04-26, end_date=2033-11-04, maturity_years=8.531506849315068), Maturity(start_date=2025-04-26, end_date=2033-11-18, maturity_years=8.56986301369863), Maturity(start_date=2025-04-26, end_date=2033-12-03, maturity_years=8.610958904109589), Maturity(start_date=2025-04-26, end_date=2033-12-17, maturity_years=8.64931506849315), Maturity(start_date=2025-04-26, end_date=2034-01-01, maturity_years=8.69041095890411), Maturity(start_date=2025-04-26, end_date=2034-01-15, maturity_years=8.728767123287671), Maturity(start_date=2025-04-26, end_date=2034-01-29, maturity_years=8.767123287671232), Maturity(start_date=2025-04-26, end_date=2034-02-13, maturity_years=8.808219178082192), Maturity(start_date=2025-04-26, end_date=2034-02-27, maturity_years=8.846575342465753), Maturity(start_date=2025-04-26, end_date=2034-03-14, maturity_years=8.887671232876713), Maturity(start_date=2025-04-26, end_date=2034-03-28, maturity_years=8.926027397260274), Maturity(start_date=2025-04-26, end_date=2034-04-12, maturity_years=8.967123287671233), Maturity(start_date=2025-04-26, end_date=2034-04-26, maturity_years=9.005479452054795), Maturity(start_date=2025-04-26, end_date=2034-05-11, maturity_years=9.046575342465754), Maturity(start_date=2025-04-26, end_date=2034-05-25, maturity_years=9.084931506849315), Maturity(start_date=2025-04-26, end_date=2034-06-09, maturity_years=9.126027397260273), Maturity(start_date=2025-04-26, end_date=2034-06-23, maturity_years=9.164383561643836), Maturity(start_date=2025-04-26, end_date=2034-07-08, maturity_years=9.205479452054794), Maturity(start_date=2025-04-26, end_date=2034-07-22, maturity_years=9.243835616438357), Maturity(start_date=2025-04-26, end_date=2034-08-06, maturity_years=9.284931506849315), Maturity(start_date=2025-04-26, end_date=2034-08-20, maturity_years=9.323287671232876), Maturity(start_date=2025-04-26, end_date=2034-09-04, maturity_years=9.364383561643836), Maturity(start_date=2025-04-26, end_date=2034-09-18, maturity_years=9.402739726027397), Maturity(start_date=2025-04-26, end_date=2034-10-03, maturity_years=9.443835616438356), Maturity(start_date=2025-04-26, end_date=2034-10-17, maturity_years=9.482191780821918), Maturity(start_date=2025-04-26, end_date=2034-11-01, maturity_years=9.523287671232877), Maturity(start_date=2025-04-26, end_date=2034-11-15, maturity_years=9.561643835616438), Maturity(start_date=2025-04-26, end_date=2034-11-30, maturity_years=9.602739726027398), Maturity(start_date=2025-04-26, end_date=2034-12-14, maturity_years=9.64109589041096), Maturity(start_date=2025-04-26, end_date=2034-12-29, maturity_years=9.682191780821919), Maturity(start_date=2025-04-26, end_date=2035-01-12, maturity_years=9.72054794520548), Maturity(start_date=2025-04-26, end_date=2035-01-27, maturity_years=9.761643835616438), Maturity(start_date=2025-04-26, end_date=2035-02-10, maturity_years=9.8), Maturity(start_date=2025-04-26, end_date=2035-02-25, maturity_years=9.841095890410958), Maturity(start_date=2025-04-26, end_date=2035-03-11, maturity_years=9.87945205479452), Maturity(start_date=2025-04-26, end_date=2035-03-26, maturity_years=9.92054794520548), Maturity(start_date=2025-04-26, end_date=2035-04-09, maturity_years=9.95890410958904), Maturity(start_date=2025-04-26, end_date=2035-04-24, maturity_years=10.0)])"
      ]
     },
     "execution_count": 14,
     "metadata": {},
     "output_type": "execute_result"
    }
   ],
   "source": [
    "stochastic_rate._rate_curve[0]._rate_curve.keys()"
   ]
  },
  {
   "cell_type": "code",
   "execution_count": 20,
   "id": "d3df5ff9",
   "metadata": {},
   "outputs": [
    {
     "name": "stdout",
     "output_type": "stream",
     "text": [
      "0.04736393394753159\n",
      "0.0468984867585583\n",
      "0.0467764092788026\n",
      "0.042\n"
     ]
    }
   ],
   "source": [
    "for i in list_rate:\n",
    "    print(i.get_rate(Maturity(today, today + dt.timedelta(days=365*5))))\n",
    "print(rate_obj.get_rate(Maturity(today, today + dt.timedelta(days=365*5))))"
   ]
  },
  {
   "cell_type": "code",
   "execution_count": 2,
   "id": "cb3e26ed",
   "metadata": {},
   "outputs": [
    {
     "data": {
      "text/plain": [
       "10.008219178082191"
      ]
     },
     "execution_count": 2,
     "metadata": {},
     "output_type": "execute_result"
    }
   ],
   "source": [
    "zc = ZCBond('zc', rate=Rate(0.05), maturity = \n",
    "            Maturity(start_date=dt.datetime(2023, 1, 1),end_date=dt.datetime(2033, 1, 1)), \n",
    "            face_value=1000)\n",
    "zc.get_duration()"
   ]
  },
  {
   "cell_type": "code",
   "execution_count": 3,
   "id": "bb6dc1e3",
   "metadata": {},
   "outputs": [],
   "source": [
    "bond = Bond(\n",
    "    name=\"US Treasury Bond\",\n",
    "    rate=Rate(\n",
    "        rate = 0.06),\n",
    "    maturity = Maturity(\n",
    "        start_date=dt.datetime(2023, 1, 1),\n",
    "        end_date=dt.datetime(2033, 1, 1)),\n",
    "    face_value = 1000,\n",
    "    coupon = 0.06,\n",
    "    nb_coupon=2,\n",
    "    price=1000\n",
    "    )"
   ]
  },
  {
   "cell_type": "code",
   "execution_count": 4,
   "id": "d88c27fa",
   "metadata": {},
   "outputs": [
    {
     "name": "stdout",
     "output_type": "stream",
     "text": [
      "US Treasury Bond_ZC_0.5 29.11575898419324 2023-07-02 00:00:00 <rate.Rate object at 0x00000209DC1120D0> 30.0\n",
      "US Treasury Bond_ZC_1.0 28.252936007527463 2024-01-01 00:00:00 <rate.Rate object at 0x00000209DC1120D0> 30.0\n",
      "US Treasury Bond_ZC_1.5 27.415682121795104 2024-07-02 00:00:00 <rate.Rate object at 0x00000209DC1120D0> 30.0\n",
      "US Treasury Bond_ZC_2.0 26.607613101514723 2024-12-31 00:00:00 <rate.Rate object at 0x00000209DC1120D0> 30.0\n",
      "US Treasury Bond_ZC_2.5 25.82336167361217 2025-07-01 00:00:00 <rate.Rate object at 0x00000209DC1120D0> 30.0\n",
      "US Treasury Bond_ZC_3.0 25.05810634233816 2025-12-31 00:00:00 <rate.Rate object at 0x00000209DC1120D0> 30.0\n",
      "US Treasury Bond_ZC_3.5 24.315528760361282 2026-07-02 00:00:00 <rate.Rate object at 0x00000209DC1120D0> 30.0\n",
      "US Treasury Bond_ZC_4.0 23.598835831996603 2026-12-31 00:00:00 <rate.Rate object at 0x00000209DC1120D0> 30.0\n",
      "US Treasury Bond_ZC_4.5 22.903267213065213 2027-07-01 00:00:00 <rate.Rate object at 0x00000209DC1120D0> 30.0\n",
      "US Treasury Bond_ZC_5.0 22.224546620451537 2027-12-31 00:00:00 <rate.Rate object at 0x00000209DC1120D0> 30.0\n",
      "US Treasury Bond_ZC_5.5 21.565939387148234 2028-07-01 00:00:00 <rate.Rate object at 0x00000209DC1120D0> 30.0\n",
      "US Treasury Bond_ZC_6.0 20.93028978213093 2028-12-30 00:00:00 <rate.Rate object at 0x00000209DC1120D0> 30.0\n",
      "US Treasury Bond_ZC_6.5 20.313375758861554 2029-06-30 00:00:00 <rate.Rate object at 0x00000209DC1120D0> 30.0\n",
      "US Treasury Bond_ZC_7.0 19.711404594451704 2029-12-30 00:00:00 <rate.Rate object at 0x00000209DC1120D0> 30.0\n",
      "US Treasury Bond_ZC_7.5 19.127272379465257 2030-07-01 00:00:00 <rate.Rate object at 0x00000209DC1120D0> 30.0\n",
      "US Treasury Bond_ZC_8.0 18.563501754184227 2030-12-30 00:00:00 <rate.Rate object at 0x00000209DC1120D0> 30.0\n",
      "US Treasury Bond_ZC_8.5 18.01634809924921 2031-06-30 00:00:00 <rate.Rate object at 0x00000209DC1120D0> 30.0\n",
      "US Treasury Bond_ZC_9.0 17.48244757121969 2031-12-30 00:00:00 <rate.Rate object at 0x00000209DC1120D0> 30.0\n",
      "US Treasury Bond_ZC_9.5 16.96436877200335 2032-06-30 00:00:00 <rate.Rate object at 0x00000209DC1120D0> 30.0\n",
      "US Treasury Bond_ZC_10.0 16.464349082820796 2032-12-29 00:00:00 <rate.Rate object at 0x00000209DC1120D0> 30.0\n"
     ]
    }
   ],
   "source": [
    "for i in bond.to_zcbonds(): \n",
    "    print(i.name, i.price, i.maturity.end_date, i.rate, i.face_value)"
   ]
  },
  {
   "cell_type": "code",
   "execution_count": 5,
   "id": "458ba6f5",
   "metadata": {},
   "outputs": [
    {
     "data": {
      "text/plain": [
       "7.598439695425409"
      ]
     },
     "execution_count": 5,
     "metadata": {},
     "output_type": "execute_result"
    }
   ],
   "source": [
    "bond.get_duration()"
   ]
  },
  {
   "cell_type": "code",
   "execution_count": 6,
   "id": "60fabec4",
   "metadata": {},
   "outputs": [],
   "source": [
    "schedule = Schedule(dt.date(2023, 1, 1), dt.date(2024, 1, 1), frequency=30)\n",
    "\n",
    "swap = Swap(name=\"Test Swap\", notional=100, \n",
    "            schedule=schedule, \n",
    "            receiving_leg=LegType.fixed,\n",
    "            paying_leg=LegType.floating,\n",
    "            receiving_rate=Rate(0.05),\n",
    "            paying_rate=Rate(0.04),\n",
    "            receiving_rate_premium=0,\n",
    "            paying_rate_premium=0)"
   ]
  },
  {
   "cell_type": "code",
   "execution_count": null,
   "id": "8c55f6e6",
   "metadata": {},
   "outputs": [],
   "source": []
  },
  {
   "cell_type": "code",
   "execution_count": 7,
   "id": "ccc60cc8",
   "metadata": {},
   "outputs": [
    {
     "data": {
      "text/plain": [
       "0.9738702104026713"
      ]
     },
     "execution_count": 7,
     "metadata": {},
     "output_type": "execute_result"
    }
   ],
   "source": [
    "swap._get_price()"
   ]
  },
  {
   "cell_type": "code",
   "execution_count": 8,
   "id": "c83392ef",
   "metadata": {},
   "outputs": [
    {
     "data": {
      "text/plain": [
       "[datetime.date(2025, 1, 1),\n",
       " datetime.date(2025, 6, 30),\n",
       " datetime.date(2025, 12, 27),\n",
       " datetime.date(2026, 6, 25),\n",
       " datetime.date(2026, 12, 22),\n",
       " datetime.date(2027, 6, 20),\n",
       " datetime.date(2027, 12, 17),\n",
       " datetime.date(2028, 6, 14),\n",
       " datetime.date(2028, 12, 11),\n",
       " datetime.date(2029, 6, 9),\n",
       " datetime.date(2029, 12, 6),\n",
       " datetime.date(2030, 6, 4),\n",
       " datetime.date(2030, 12, 1),\n",
       " datetime.date(2031, 5, 30),\n",
       " datetime.date(2031, 11, 26),\n",
       " datetime.date(2032, 5, 24),\n",
       " datetime.date(2032, 11, 20),\n",
       " datetime.date(2033, 5, 19),\n",
       " datetime.date(2033, 11, 15),\n",
       " datetime.date(2034, 5, 14),\n",
       " datetime.date(2034, 11, 10),\n",
       " datetime.date(2035, 1, 1)]"
      ]
     },
     "execution_count": 8,
     "metadata": {},
     "output_type": "execute_result"
    }
   ],
   "source": [
    "stock=Stock(\n",
    "        name=\"Test Stock\",\n",
    "        price=100,\n",
    "        div_amount=1,\n",
    "        div_schedule=Schedule(dt.date(2025, 1, 1), \n",
    "                              dt.date(2035, 1, 1), \n",
    "                              frequency=180))\n",
    "\n",
    "stock.div_schedule.schedule"
   ]
  },
  {
   "cell_type": "code",
   "execution_count": 9,
   "id": "a56043a1",
   "metadata": {},
   "outputs": [],
   "source": [
    "convertible = Convertible(\n",
    "    name=\"Test Convertible\",\n",
    "    rate=Rate(0.02),\n",
    "    maturity=Maturity(\n",
    "        start_date=dt.date(2025, 1, 1),\n",
    "        end_date=dt.date(2035, 1, 1)),\n",
    "    face_value=100,\n",
    "    coupon=0.05,\n",
    "    nb_coupon=2,\n",
    "    conversion_ratio=1.2,\n",
    "    stock=Stock(\n",
    "        name=\"Test Stock\",\n",
    "        price=100,\n",
    "        div_amount=1,\n",
    "        div_schedule=Schedule(dt.date(2025, 1, 1), \n",
    "                              dt.date(2035, 1, 1), \n",
    "                              frequency=180),\n",
    "        volatility=0.2),\n",
    ")"
   ]
  },
  {
   "cell_type": "code",
   "execution_count": 10,
   "id": "c14944e5",
   "metadata": {},
   "outputs": [
    {
     "data": {
      "text/plain": [
       "126.95521243913494"
      ]
     },
     "execution_count": 10,
     "metadata": {},
     "output_type": "execute_result"
    }
   ],
   "source": [
    "convertible.bond_component"
   ]
  },
  {
   "cell_type": "code",
   "execution_count": 11,
   "id": "7bc0612b",
   "metadata": {},
   "outputs": [
    {
     "data": {
      "text/plain": [
       "np.float64(40.296208803359576)"
      ]
     },
     "execution_count": 11,
     "metadata": {},
     "output_type": "execute_result"
    }
   ],
   "source": [
    "convertible.option_component"
   ]
  },
  {
   "cell_type": "code",
   "execution_count": 12,
   "id": "4fd3d45f",
   "metadata": {},
   "outputs": [
    {
     "data": {
      "text/plain": [
       "np.float64(167.25142124249453)"
      ]
     },
     "execution_count": 12,
     "metadata": {},
     "output_type": "execute_result"
    }
   ],
   "source": [
    "convertible.price"
   ]
  },
  {
   "cell_type": "code",
   "execution_count": 13,
   "id": "4255ab90",
   "metadata": {},
   "outputs": [
    {
     "data": {
      "text/plain": [
       "np.float64(6.265283997308113)"
      ]
     },
     "execution_count": 13,
     "metadata": {},
     "output_type": "execute_result"
    }
   ],
   "source": [
    "convertible._get_bond_component_duration()"
   ]
  },
  {
   "cell_type": "code",
   "execution_count": 14,
   "id": "1a18d917",
   "metadata": {},
   "outputs": [
    {
     "name": "stdout",
     "output_type": "stream",
     "text": [
      "0.04175844812691167\n"
     ]
    },
    {
     "data": {
      "text/plain": [
       "np.float64(5.1611948820996085)"
      ]
     },
     "execution_count": 14,
     "metadata": {},
     "output_type": "execute_result"
    }
   ],
   "source": [
    "convertible.get_duration()"
   ]
  },
  {
   "cell_type": "code",
   "execution_count": null,
   "id": "d6259279",
   "metadata": {},
   "outputs": [],
   "source": []
  }
 ],
 "metadata": {
  "kernelspec": {
   "display_name": ".venv",
   "language": "python",
   "name": "python3"
  },
  "language_info": {
   "codemirror_mode": {
    "name": "ipython",
    "version": 3
   },
   "file_extension": ".py",
   "mimetype": "text/x-python",
   "name": "python",
   "nbconvert_exporter": "python",
   "pygments_lexer": "ipython3",
   "version": "3.13.0"
  }
 },
 "nbformat": 4,
 "nbformat_minor": 5
}
